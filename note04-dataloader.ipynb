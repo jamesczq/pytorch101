{
 "cells": [
  {
   "cell_type": "code",
   "execution_count": 1,
   "metadata": {},
   "outputs": [],
   "source": [
    "# For large datasets, better divide them into smaller sets i.e. batches\n",
    "# So the training loops have two for-loops now:\n",
    "# for epoch in range(num_epochs):\n",
    "#   for i in range(total_batches):\n",
    "#       x_batch, y_batch = ..."
   ]
  },
  {
   "cell_type": "code",
   "execution_count": 2,
   "metadata": {},
   "outputs": [],
   "source": [
    "# Terms\n",
    "\n",
    "# Epoch: one forward & backward pass of ALL training samples\n",
    "\n",
    "# Batch size: number of training samples in one forward & backward pass\n",
    "\n",
    "# Number of iterations: number of passes, each pass using [batch_size] number of samples\n",
    "# e.g. 100 samples, batch_size = 20, then for one epoch there are 100/20 = 5 iterations"
   ]
  },
  {
   "cell_type": "code",
   "execution_count": 3,
   "metadata": {},
   "outputs": [],
   "source": [
    "import torch\n",
    "from torch.utils.data import Dataset, DataLoader\n",
    "import numpy as np\n",
    "import math "
   ]
  },
  {
   "cell_type": "code",
   "execution_count": 4,
   "metadata": {},
   "outputs": [],
   "source": [
    "class WineDataset(Dataset):\n",
    "    def __init__(self):\n",
    "        # data loading\n",
    "        xy = np.loadtxt('./data/wine.csv', delimiter=',', dtype=np.float32, skiprows=1)\n",
    "        self.x = torch.from_numpy(xy[:, 1:])\n",
    "        self.y = torch.from_numpy(xy[:, [0]]) # (n_samples, 1)\n",
    "        self.n_samples = xy.shape[0]\n",
    "    \n",
    "    def __getitem__(self, index):\n",
    "        # dataset[i]\n",
    "        return self.x[index], self.y[index]\n",
    "\n",
    "    def __len__(self):\n",
    "        # len(dataset)\n",
    "        return self.n_samples"
   ]
  },
  {
   "cell_type": "code",
   "execution_count": 5,
   "metadata": {},
   "outputs": [
    {
     "name": "stdout",
     "output_type": "stream",
     "text": [
      "tensor([1.4230e+01, 1.7100e+00, 2.4300e+00, 1.5600e+01, 1.2700e+02, 2.8000e+00,\n",
      "        3.0600e+00, 2.8000e-01, 2.2900e+00, 5.6400e+00, 1.0400e+00, 3.9200e+00,\n",
      "        1.0650e+03]) tensor([1.])\n"
     ]
    }
   ],
   "source": [
    "dataset = WineDataset()\n",
    "first_data = dataset[0]\n",
    "features, label = first_data\n",
    "print(features, label)"
   ]
  },
  {
   "cell_type": "code",
   "execution_count": 6,
   "metadata": {},
   "outputs": [],
   "source": [
    "# Use Dataloader"
   ]
  },
  {
   "cell_type": "code",
   "execution_count": 7,
   "metadata": {},
   "outputs": [
    {
     "name": "stdout",
     "output_type": "stream",
     "text": [
      "tensor([[1.3160e+01, 3.5700e+00, 2.1500e+00, 2.1000e+01, 1.0200e+02, 1.5000e+00,\n",
      "         5.5000e-01, 4.3000e-01, 1.3000e+00, 4.0000e+00, 6.0000e-01, 1.6800e+00,\n",
      "         8.3000e+02],\n",
      "        [1.4370e+01, 1.9500e+00, 2.5000e+00, 1.6800e+01, 1.1300e+02, 3.8500e+00,\n",
      "         3.4900e+00, 2.4000e-01, 2.1800e+00, 7.8000e+00, 8.6000e-01, 3.4500e+00,\n",
      "         1.4800e+03],\n",
      "        [1.3860e+01, 1.3500e+00, 2.2700e+00, 1.6000e+01, 9.8000e+01, 2.9800e+00,\n",
      "         3.1500e+00, 2.2000e-01, 1.8500e+00, 7.2200e+00, 1.0100e+00, 3.5500e+00,\n",
      "         1.0450e+03],\n",
      "        [1.2600e+01, 2.4600e+00, 2.2000e+00, 1.8500e+01, 9.4000e+01, 1.6200e+00,\n",
      "         6.6000e-01, 6.3000e-01, 9.4000e-01, 7.1000e+00, 7.3000e-01, 1.5800e+00,\n",
      "         6.9500e+02]])\n",
      "tensor([[3.],\n",
      "        [1.],\n",
      "        [1.],\n",
      "        [3.]])\n"
     ]
    }
   ],
   "source": [
    "dataloader = DataLoader(dataset=dataset, batch_size=4, shuffle=True, num_workers=0)\n",
    "\n",
    "dataiter = iter(dataloader)\n",
    "data = dataiter.next()\n",
    "features, label = data \n",
    "print(features)\n",
    "print(label)"
   ]
  },
  {
   "cell_type": "code",
   "execution_count": 8,
   "metadata": {},
   "outputs": [],
   "source": [
    "# Training loop"
   ]
  },
  {
   "cell_type": "code",
   "execution_count": 9,
   "metadata": {},
   "outputs": [
    {
     "name": "stdout",
     "output_type": "stream",
     "text": [
      "178 45\n"
     ]
    }
   ],
   "source": [
    "num_epochs = 3\n",
    "\n",
    "total_samples = len(dataset)\n",
    "\n",
    "n_iterations = math.ceil(total_samples / 4) #batch_size=4; one batch has four samples\n",
    "\n",
    "print(total_samples, n_iterations)"
   ]
  },
  {
   "cell_type": "code",
   "execution_count": 10,
   "metadata": {},
   "outputs": [
    {
     "name": "stdout",
     "output_type": "stream",
     "text": [
      "----- Epoch 1 -----\n",
      "Epoch 1/3, Iter 5/45\n",
      "Inputs: (nSamples, nFeatures) = torch.Size([4, 13])\n",
      "Epoch 1/3, Iter 10/45\n",
      "Inputs: (nSamples, nFeatures) = torch.Size([4, 13])\n",
      "Epoch 1/3, Iter 15/45\n",
      "Inputs: (nSamples, nFeatures) = torch.Size([4, 13])\n",
      "Epoch 1/3, Iter 20/45\n",
      "Inputs: (nSamples, nFeatures) = torch.Size([4, 13])\n",
      "Epoch 1/3, Iter 25/45\n",
      "Inputs: (nSamples, nFeatures) = torch.Size([4, 13])\n",
      "Epoch 1/3, Iter 30/45\n",
      "Inputs: (nSamples, nFeatures) = torch.Size([4, 13])\n",
      "Epoch 1/3, Iter 35/45\n",
      "Inputs: (nSamples, nFeatures) = torch.Size([4, 13])\n",
      "Epoch 1/3, Iter 40/45\n",
      "Inputs: (nSamples, nFeatures) = torch.Size([4, 13])\n",
      "Epoch 1/3, Iter 45/45\n",
      "Inputs: (nSamples, nFeatures) = torch.Size([2, 13])\n",
      "----- Epoch 2 -----\n",
      "Epoch 2/3, Iter 5/45\n",
      "Inputs: (nSamples, nFeatures) = torch.Size([4, 13])\n",
      "Epoch 2/3, Iter 10/45\n",
      "Inputs: (nSamples, nFeatures) = torch.Size([4, 13])\n",
      "Epoch 2/3, Iter 15/45\n",
      "Inputs: (nSamples, nFeatures) = torch.Size([4, 13])\n",
      "Epoch 2/3, Iter 20/45\n",
      "Inputs: (nSamples, nFeatures) = torch.Size([4, 13])\n",
      "Epoch 2/3, Iter 25/45\n",
      "Inputs: (nSamples, nFeatures) = torch.Size([4, 13])\n",
      "Epoch 2/3, Iter 30/45\n",
      "Inputs: (nSamples, nFeatures) = torch.Size([4, 13])\n",
      "Epoch 2/3, Iter 35/45\n",
      "Inputs: (nSamples, nFeatures) = torch.Size([4, 13])\n",
      "Epoch 2/3, Iter 40/45\n",
      "Inputs: (nSamples, nFeatures) = torch.Size([4, 13])\n",
      "Epoch 2/3, Iter 45/45\n",
      "Inputs: (nSamples, nFeatures) = torch.Size([2, 13])\n",
      "----- Epoch 3 -----\n",
      "Epoch 3/3, Iter 5/45\n",
      "Inputs: (nSamples, nFeatures) = torch.Size([4, 13])\n",
      "Epoch 3/3, Iter 10/45\n",
      "Inputs: (nSamples, nFeatures) = torch.Size([4, 13])\n",
      "Epoch 3/3, Iter 15/45\n",
      "Inputs: (nSamples, nFeatures) = torch.Size([4, 13])\n",
      "Epoch 3/3, Iter 20/45\n",
      "Inputs: (nSamples, nFeatures) = torch.Size([4, 13])\n",
      "Epoch 3/3, Iter 25/45\n",
      "Inputs: (nSamples, nFeatures) = torch.Size([4, 13])\n",
      "Epoch 3/3, Iter 30/45\n",
      "Inputs: (nSamples, nFeatures) = torch.Size([4, 13])\n",
      "Epoch 3/3, Iter 35/45\n",
      "Inputs: (nSamples, nFeatures) = torch.Size([4, 13])\n",
      "Epoch 3/3, Iter 40/45\n",
      "Inputs: (nSamples, nFeatures) = torch.Size([4, 13])\n",
      "Epoch 3/3, Iter 45/45\n",
      "Inputs: (nSamples, nFeatures) = torch.Size([2, 13])\n"
     ]
    }
   ],
   "source": [
    "for epoch in range(num_epochs):\n",
    "    print(f\"----- Epoch {epoch + 1} -----\")\n",
    "    for i, (inputs, labels) in enumerate(dataloader):\n",
    "        # Forward, backward, update\n",
    "        if (i+1)%5 == 0:\n",
    "            print(f\"Epoch {epoch+1}/{num_epochs}, Iter {i+1}/{n_iterations}\")\n",
    "            print(f\"Inputs: (nSamples, nFeatures) = {inputs.shape}\")"
   ]
  },
  {
   "cell_type": "code",
   "execution_count": null,
   "metadata": {},
   "outputs": [],
   "source": []
  }
 ],
 "metadata": {
  "kernelspec": {
   "display_name": "Python 3.8.8 ('base')",
   "language": "python",
   "name": "python3"
  },
  "language_info": {
   "codemirror_mode": {
    "name": "ipython",
    "version": 3
   },
   "file_extension": ".py",
   "mimetype": "text/x-python",
   "name": "python",
   "nbconvert_exporter": "python",
   "pygments_lexer": "ipython3",
   "version": "3.8.8"
  },
  "orig_nbformat": 4,
  "vscode": {
   "interpreter": {
    "hash": "10b46b512231d90449c4dc0158114cef5d491287992b36bbfca0cd341091f68a"
   }
  }
 },
 "nbformat": 4,
 "nbformat_minor": 2
}
