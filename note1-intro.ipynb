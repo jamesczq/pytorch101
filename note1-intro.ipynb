{
 "cells": [
  {
   "cell_type": "code",
   "execution_count": 8,
   "metadata": {},
   "outputs": [],
   "source": [
    "import numpy as np"
   ]
  },
  {
   "cell_type": "code",
   "execution_count": 9,
   "metadata": {},
   "outputs": [],
   "source": [
    "# f = w*x\n",
    "# f = 2 * x"
   ]
  },
  {
   "cell_type": "code",
   "execution_count": 11,
   "metadata": {},
   "outputs": [],
   "source": [
    "def forward(x):\n",
    "    return w*x \n",
    "\n",
    "def loss(y, y_pred):\n",
    "    # MSE\n",
    "    return np.mean((y - y_pred)**2)\n",
    "\n",
    "# Gradient\n",
    "# MSE J = 1/n * (w * x - y)^2\n",
    "# dJ/dw = 1/n * 2x * (wx - y)\n",
    "def gradient(x, y, y_pred):\n",
    "    return np.mean(np.dot(2*x, y_pred - y))"
   ]
  },
  {
   "cell_type": "code",
   "execution_count": 17,
   "metadata": {},
   "outputs": [
    {
     "name": "stdout",
     "output_type": "stream",
     "text": [
      "Prediction before training: f(5) = 0.050\n",
      "Epoch 1: w = 1.2040, loss = 29.7007\n",
      "Epoch 3: w = 1.8726, loss = 0.7603\n",
      "Epoch 5: w = 1.9796, loss = 0.0195\n",
      "Prediction after training: f(5) = 9.959\n"
     ]
    }
   ],
   "source": [
    "X = np.array([1, 2, 3, 4], dtype=np.float32)\n",
    "Y = np.array([2, 4, 6, 8], dtype=np.float32)\n",
    "w = 0.01\n",
    "\n",
    "print(f'Prediction before training: f(5) = {forward(5):.3f}')\n",
    "# Training\n",
    "learning_rate = 0.01\n",
    "n_iters = 6\n",
    "\n",
    "for epoch in range(n_iters):\n",
    "    y_pred = forward(X)\n",
    "    l = loss(Y, y_pred)\n",
    "    dw = gradient(X, Y, y_pred)\n",
    "    w -= learning_rate * dw \n",
    "\n",
    "    if epoch % 2 == 0:\n",
    "        print(f\"Epoch {epoch+1}: w = {w:.4f}, loss = {l:.4f}\")\n",
    "\n",
    "print(f'Prediction after training: f(5) = {forward(5):.3f}')"
   ]
  },
  {
   "cell_type": "code",
   "execution_count": 18,
   "metadata": {},
   "outputs": [],
   "source": [
    "import torch"
   ]
  },
  {
   "cell_type": "code",
   "execution_count": 24,
   "metadata": {},
   "outputs": [
    {
     "name": "stdout",
     "output_type": "stream",
     "text": [
      "Prediction before training: f(5) = 0.550\n",
      "Epoch 1: w = 0.3935, loss = 26.7907\n",
      "Epoch 21: w = 1.9377, loss = 0.0402\n",
      "Epoch 41: w = 1.9976, loss = 0.0001\n",
      "Epoch 61: w = 1.9999, loss = 0.0000\n",
      "Epoch 81: w = 2.0000, loss = 0.0000\n",
      "Epoch 101: w = 2.0000, loss = 0.0000\n",
      "Epoch 121: w = 2.0000, loss = 0.0000\n",
      "Epoch 141: w = 2.0000, loss = 0.0000\n",
      "Epoch 161: w = 2.0000, loss = 0.0000\n",
      "Epoch 181: w = 2.0000, loss = 0.0000\n",
      "Prediction after training: f(5) = 10.000\n"
     ]
    }
   ],
   "source": [
    "def forward(x):\n",
    "    return w*x \n",
    "\n",
    "def loss(y, y_pred):\n",
    "    # MSE\n",
    "    return ((y - y_pred)**2).mean()\n",
    "\n",
    "# Gradient\n",
    "# MSE J = 1/n * (w * x - y)^2\n",
    "# dJ/dw = 1/n * 2x * (wx - y)\n",
    "\n",
    "X = torch.tensor([1, 2, 3, 4], dtype=torch.float32)\n",
    "Y = torch.tensor([2, 4, 6, 8], dtype=torch.float32)\n",
    "w = torch.tensor(0.11, dtype=torch.float32, requires_grad=True)\n",
    "\n",
    "print(f'Prediction before training: f(5) = {forward(5):.3f}')\n",
    "# Training\n",
    "learning_rate = 0.01\n",
    "n_iters = 200\n",
    "\n",
    "for epoch in range(n_iters):\n",
    "    y_pred = forward(X)\n",
    "    l = loss(Y, y_pred)\n",
    "    #dw = gradient(X, Y, y_pred)\n",
    "    l.backward()\n",
    "    #w -= learning_rate * dw\n",
    "    with torch.no_grad(): # This updating needs not be a part of computational graph\n",
    "        w -= learning_rate * w.grad\n",
    "    # Don't accumulate the grad(W) ## But W values themselves allowed to change\n",
    "    w.grad.zero_()\n",
    "\n",
    "    if epoch % 20 == 0:\n",
    "        print(f\"Epoch {epoch+1}: w = {w:.4f}, loss = {l:.4f}\")\n",
    "\n",
    "print(f'Prediction after training: f(5) = {forward(5):.3f}')"
   ]
  },
  {
   "cell_type": "code",
   "execution_count": 25,
   "metadata": {},
   "outputs": [],
   "source": [
    "# General steps\n",
    "# 1. Design model: input, output size, forward pass\n",
    "# 2. Construct loss and optimizer\n",
    "# 3. Training loop\n",
    "#       - Forward pass: compute prediction\n",
    "#       - Backward pass: gradients\n",
    "#       - Update weights"
   ]
  },
  {
   "cell_type": "code",
   "execution_count": 26,
   "metadata": {},
   "outputs": [],
   "source": [
    "import torch.nn as nn "
   ]
  },
  {
   "cell_type": "code",
   "execution_count": 29,
   "metadata": {},
   "outputs": [
    {
     "name": "stdout",
     "output_type": "stream",
     "text": [
      "Pred before training: f(5) = 2.885\n",
      "Epoch 1: w = 0.9021, loss = 16.7068\n",
      "Epoch 21: w = 1.9877, loss = 0.0116\n",
      "Epoch 41: w = 2.0149, loss = 0.0004\n",
      "Epoch 61: w = 2.0147, loss = 0.0003\n",
      "Epoch 81: w = 2.0138, loss = 0.0003\n",
      "Epoch 101: w = 2.0130, loss = 0.0002\n",
      "Epoch 121: w = 2.0123, loss = 0.0002\n",
      "Epoch 141: w = 2.0116, loss = 0.0002\n",
      "Epoch 161: w = 2.0109, loss = 0.0002\n",
      "Epoch 181: w = 2.0103, loss = 0.0002\n",
      "Pred after training: f(5) = 10.020\n"
     ]
    }
   ],
   "source": [
    "# f = w * x\n",
    "# f = 2 * x\n",
    "\n",
    "X = torch.tensor([[1], [2], [3], [4]], dtype=torch.float32)\n",
    "Y = torch.tensor([[2], [4], [6], [8]], dtype=torch.float32)\n",
    "\n",
    "X_test = torch.tensor([5], dtype=torch.float32)\n",
    "\n",
    "n_samples, n_features = X.shape\n",
    "\n",
    "input_size = n_features\n",
    "output_size = n_features \n",
    "\n",
    "model = nn.Linear(input_size, output_size)\n",
    "\n",
    "loss = nn.MSELoss() \n",
    "\n",
    "optimizer = torch.optim.SGD(model.parameters(), lr=learning_rate)\n",
    "\n",
    "print(f\"Pred before training: f(5) = {model(X_test).item():.3f}\")\n",
    "\n",
    "for epoch in range(n_iters):\n",
    "    # Forward\n",
    "    y_pred = model(X)\n",
    "    # Loss\n",
    "    l = loss(Y, y_pred)\n",
    "    # Grad = backward pass\n",
    "    l.backward() #dl/dw\n",
    "    # Update weights\n",
    "    optimizer.step() # instead of doing w -= lr * dw\n",
    "    # Empty out grads\n",
    "    optimizer.zero_grad()\n",
    "\n",
    "    if epoch % 20 == 0:\n",
    "        [w, b] = model.parameters()\n",
    "        print(f\"Epoch {epoch+1}: w = {w[0][0].item():.4f}, loss = {l:.4f}\")\n",
    "\n",
    "print(f\"Pred after training: f(5) = {model(X_test).item():.3f}\")\n",
    "    \n"
   ]
  },
  {
   "cell_type": "code",
   "execution_count": 30,
   "metadata": {},
   "outputs": [
    {
     "name": "stdout",
     "output_type": "stream",
     "text": [
      "Pred before training: f(5) = -0.845\n",
      "Epoch 1: w = 0.0148, loss = 32.6155\n",
      "Epoch 21: w = 1.5519, loss = 0.2633\n",
      "Epoch 41: w = 1.6148, loss = 0.2144\n",
      "Epoch 61: w = 1.6382, loss = 0.1901\n",
      "Epoch 81: w = 1.6593, loss = 0.1686\n",
      "Epoch 101: w = 1.6791, loss = 0.1496\n",
      "Epoch 121: w = 1.6978, loss = 0.1327\n",
      "Epoch 141: w = 1.7154, loss = 0.1177\n",
      "Epoch 161: w = 1.7319, loss = 0.1044\n",
      "Epoch 181: w = 1.7475, loss = 0.0926\n",
      "Pred after training: f(5) = 9.509\n"
     ]
    }
   ],
   "source": [
    "class LinearRegression(nn.Module):\n",
    "    def __init__(self, input_dim, output_dim):\n",
    "        super(LinearRegression, self).__init__()\n",
    "        # Define layers\n",
    "        self.lin = nn.Linear(input_dim, output_dim)\n",
    "    \n",
    "    def forward(self, x):\n",
    "        return self.lin(x)\n",
    "\n",
    "model = LinearRegression(input_size, output_size)\n",
    "\n",
    "loss = nn.MSELoss() \n",
    "\n",
    "optimizer = torch.optim.SGD(model.parameters(), lr=learning_rate)\n",
    "\n",
    "print(f\"Pred before training: f(5) = {model(X_test).item():.3f}\")\n",
    "\n",
    "for epoch in range(n_iters):\n",
    "    # Forward\n",
    "    y_pred = model(X)\n",
    "    # Loss\n",
    "    l = loss(Y, y_pred)\n",
    "    # Grad = backward pass\n",
    "    l.backward() #dl/dw\n",
    "    # Update weights\n",
    "    optimizer.step() # instead of doing w -= lr * dw\n",
    "    # Empty out grads\n",
    "    optimizer.zero_grad()\n",
    "\n",
    "    if epoch % 20 == 0:\n",
    "        [w, b] = model.parameters()\n",
    "        print(f\"Epoch {epoch+1}: w = {w[0][0].item():.4f}, loss = {l:.4f}\")\n",
    "\n",
    "print(f\"Pred after training: f(5) = {model(X_test).item():.3f}\")"
   ]
  },
  {
   "cell_type": "code",
   "execution_count": null,
   "metadata": {},
   "outputs": [],
   "source": []
  }
 ],
 "metadata": {
  "kernelspec": {
   "display_name": "Python 3.8.8 ('base')",
   "language": "python",
   "name": "python3"
  },
  "language_info": {
   "codemirror_mode": {
    "name": "ipython",
    "version": 3
   },
   "file_extension": ".py",
   "mimetype": "text/x-python",
   "name": "python",
   "nbconvert_exporter": "python",
   "pygments_lexer": "ipython3",
   "version": "3.8.8"
  },
  "orig_nbformat": 4,
  "vscode": {
   "interpreter": {
    "hash": "10b46b512231d90449c4dc0158114cef5d491287992b36bbfca0cd341091f68a"
   }
  }
 },
 "nbformat": 4,
 "nbformat_minor": 2
}
